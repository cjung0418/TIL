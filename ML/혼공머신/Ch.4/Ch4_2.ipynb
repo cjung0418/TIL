{
  "nbformat": 4,
  "nbformat_minor": 0,
  "metadata": {
    "colab": {
      "provenance": []
    },
    "kernelspec": {
      "name": "python3",
      "display_name": "Python 3"
    },
    "language_info": {
      "name": "python"
    }
  },
  "cells": [
    {
      "cell_type": "markdown",
      "source": [
        "## 확률적 경사 하강법"
      ],
      "metadata": {
        "id": "shAwdfsaQWgE"
      }
    },
    {
      "cell_type": "code",
      "execution_count": 1,
      "metadata": {
        "id": "OG_zoNnHQSVs"
      },
      "outputs": [],
      "source": [
        "import pandas as pd\n",
        "fish = pd.read_csv('https://bit.ly/fish_csv_data')"
      ]
    },
    {
      "cell_type": "code",
      "source": [
        "fish_input = fish[fish.columns[1:]].to_numpy()\n",
        "fish_target = fish['Species'].to_numpy()"
      ],
      "metadata": {
        "id": "FuIh8qWcYPlO"
      },
      "execution_count": 4,
      "outputs": []
    },
    {
      "cell_type": "code",
      "source": [
        "from sklearn.model_selection import train_test_split\n",
        "train_input, test_input, train_target, test_target = train_test_split(fish_input, fish_target)"
      ],
      "metadata": {
        "id": "hdfYgiclYW7Z"
      },
      "execution_count": 5,
      "outputs": []
    },
    {
      "cell_type": "code",
      "source": [
        "from sklearn.preprocessing import StandardScaler\n",
        "ss = StandardScaler()\n",
        "ss.fit(train_input)\n",
        "train_scaled = ss.transform(train_input)\n",
        "test_scaled = ss.transform(test_input)"
      ],
      "metadata": {
        "id": "CnAIDq5rY1vm"
      },
      "execution_count": 6,
      "outputs": []
    },
    {
      "cell_type": "code",
      "source": [
        "from sklearn.linear_model import SGDClassifier"
      ],
      "metadata": {
        "id": "kDvbTXkdZCs1"
      },
      "execution_count": 7,
      "outputs": []
    },
    {
      "cell_type": "code",
      "source": [
        "sc = SGDClassifier(loss='log', max_iter=10, random_state=42)\n",
        "sc.fit(train_scaled, train_target)\n",
        "print(sc.score(train_scaled, train_target))\n",
        "print(sc.score(test_scaled, test_target))"
      ],
      "metadata": {
        "colab": {
          "base_uri": "https://localhost:8080/"
        },
        "id": "ejRblgWdZjdH",
        "outputId": "b13e513f-2b20-4f23-dc4d-6045da7ec4e6"
      },
      "execution_count": 8,
      "outputs": [
        {
          "output_type": "stream",
          "name": "stdout",
          "text": [
            "0.6974789915966386\n",
            "0.8\n"
          ]
        },
        {
          "output_type": "stream",
          "name": "stderr",
          "text": [
            "/usr/local/lib/python3.7/dist-packages/sklearn/linear_model/_stochastic_gradient.py:700: ConvergenceWarning: Maximum number of iteration reached before convergence. Consider increasing max_iter to improve the fit.\n",
            "  ConvergenceWarning,\n"
          ]
        }
      ]
    },
    {
      "cell_type": "code",
      "source": [
        "sc.partial_fit(train_scaled, train_target)\n",
        "print(sc.score(train_scaled, train_target))\n",
        "print(sc.score(test_scaled, test_target))"
      ],
      "metadata": {
        "colab": {
          "base_uri": "https://localhost:8080/"
        },
        "id": "51hxrpgSZwED",
        "outputId": "8b2e4da3-64aa-4e78-ae9f-c1935a4a1579"
      },
      "execution_count": 9,
      "outputs": [
        {
          "output_type": "stream",
          "name": "stdout",
          "text": [
            "0.8235294117647058\n",
            "0.8\n"
          ]
        }
      ]
    },
    {
      "cell_type": "code",
      "source": [
        "import numpy as np\n",
        "sc = SGDClassifier(loss='log', random_state=42)\n",
        "train_score = []\n",
        "test_score = []\n",
        "classes = np.unique(train_target)"
      ],
      "metadata": {
        "id": "cpe6iqoyaAQ3"
      },
      "execution_count": 11,
      "outputs": []
    },
    {
      "cell_type": "code",
      "source": [
        "for _ in range(0,300):\n",
        "  sc.partial_fit(train_scaled, train_target, classes=classes)\n",
        "  train_score.append(sc.score(train_scaled,train_target))\n",
        "  test_score.append(sc.score(test_scaled, test_target))"
      ],
      "metadata": {
        "id": "DL8HBM5oa512"
      },
      "execution_count": 12,
      "outputs": []
    },
    {
      "cell_type": "code",
      "source": [
        "import matplotlib.pyplot as plt\n",
        "plt.plot(train_score)\n",
        "plt.plot(test_score)\n",
        "plt.xlabel('epoch')\n",
        "plt.ylabel('accuracy')\n",
        "plt.show()"
      ],
      "metadata": {
        "colab": {
          "base_uri": "https://localhost:8080/",
          "height": 280
        },
        "id": "xmpejOAVbLKO",
        "outputId": "d647f861-9e6c-49dc-d39b-4bc376420fc3"
      },
      "execution_count": 15,
      "outputs": [
        {
          "output_type": "display_data",
          "data": {
            "text/plain": [
              "<Figure size 432x288 with 1 Axes>"
            ],
            "image/png": "[encoded data removed]"
          },
          "metadata": {
            "needs_background": "light"
          }
        }
      ]
    },
    {
      "cell_type": "code",
      "source": [
        "sc = SGDClassifier(loss='log', max_iter=100, tol=None, random_state=42)\n",
        "sc.fit(train_scaled, train_target)\n",
        "print(sc.score(train_scaled, train_target))\n",
        "print(sc.score(test_scaled, test_target))"
      ],
      "metadata": {
        "colab": {
          "base_uri": "https://localhost:8080/"
        },
        "id": "Nsmtvq6SbVLk",
        "outputId": "7951677e-6d0d-40e9-e27e-e7bd8697e5b3"
      },
      "execution_count": 16,
      "outputs": [
        {
          "output_type": "stream",
          "name": "stdout",
          "text": [
            "0.865546218487395\n",
            "0.925\n"
          ]
        }
      ]
    },
    {
      "cell_type": "code",
      "source": [
        "sc = SGDClassifier(loss='hinge', max_iter=100, tol=None, random_state=42)\n",
        "sc.fit(train_scaled, train_target)\n",
        "print(sc.score(train_scaled, train_target))\n",
        "print(sc.score(test_scaled, test_target))"
      ],
      "metadata": {
        "colab": {
          "base_uri": "https://localhost:8080/"
        },
        "id": "BpjAnaRSbwec",
        "outputId": "1c5bb498-0c46-4933-fd90-579f9759f501"
      },
      "execution_count": 17,
      "outputs": [
        {
          "output_type": "stream",
          "name": "stdout",
          "text": [
            "0.9327731092436975\n",
            "0.95\n"
          ]
        }
      ]
    },
    {
      "cell_type": "markdown",
      "source": [
        "## 마무리\n",
        "- 확률적 경사 하강법 \n",
        "  - 훈련 세트에서 샘플을 하나씩 꺼내 손실 함수의 경사를 따라 최적의 모델을 찾는 알고리즘. \n",
        "  - 샘플을 하나씩 사용하지 않고 여러 개를 사용하면 미니배치 경사 하강법이 된다. \n",
        "  - 한 번에 전체 샘플을 사용하면 배치 경사 하강법이 된다.\n",
        "- 손실 함수\n",
        "  - 확률적 경사 하강법이 최적화할 대상\n",
        "  - 이진 분류에는 로지스틱 회귀(또는 이진 크로스엔트로피) 손실 함수를 사용\n",
        "  - 다중 분류에는 크로스엔트로피 손실 함수를 사용\n",
        "  - 회귀 문제에는 평균 제곱 오차 손실 함수를 사용\n",
        "- 에포크: 확률적 경사 하강법에서 전체 샘플을 모두 사용하는 한 번 반복을 의미\n",
        "- scikit-learn\n",
        "  - SGDClassifier\n",
        "    - 확률적 경사 하강법을 사용한 분류 모델을 만든다\n",
        "    - loss 매개변수는 확률적 경사 하강법으로 최적화할 손실 함수를 지정한다. 기본값은 서포트벡터 머신을 위한 'hinge'손실 함수이다. 로지스틱 회귀를 위해서는 'log'로 지정한다.\n",
        "    - penalty 매개변수에서 규제의 종류를 지정할 수 있다. 기본값은 L2 규제를 위한 'l2'이다. L1 규제를 적용하려면 'l1'로 지정한다.\n",
        "    - alpha 매개변수에서 규제의 강도를 지정한다. 기본값은 0.0001이다.\n",
        "    - max_iter 매개변수는 에포크 횟수를 지정한다. 기본값은 1000이다.\n",
        "    - tol 매개변수는 반복을 멈출 조건이다. n_iter_no_change 매개변수에서 지정한 에포크 동안 손실이 tol만큼 줄어들지 않으면 알고리즘이 중단된다. tol 매개변수의 기본값은 0.001이고 n_iter_no_change 매개변수의 기본값은 5이다.\n",
        "  - SGDRegressor\n",
        "    - 확률적 경사 하강법을 사용한 회귀 모델을 만든다\n",
        "    - loss 매개변수에서 손실 함수를 지정한다. 기본값은 제곱 오차를 나타내는 'squared_loss'이다.\n",
        "    - SGDClassifier의 매개변수를 동일하게 사용한다."
      ],
      "metadata": {
        "id": "RF-UwhvrcXb1"
      }
    }
  ]
}